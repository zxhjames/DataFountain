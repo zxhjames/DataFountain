{
 "metadata": {
  "language_info": {
   "codemirror_mode": {
    "name": "ipython",
    "version": 3
   },
   "file_extension": ".py",
   "mimetype": "text/x-python",
   "name": "python",
   "nbconvert_exporter": "python",
   "pygments_lexer": "ipython3",
   "version": "3.8.3-final"
  },
  "orig_nbformat": 2,
  "kernelspec": {
   "name": "python3",
   "display_name": "Python 3",
   "language": "python"
  }
 },
 "nbformat": 4,
 "nbformat_minor": 2,
 "cells": [
  {
   "cell_type": "code",
   "execution_count": 10,
   "metadata": {},
   "outputs": [],
   "source": [
    "import pandas as pd\n",
    "import numpy as np\n",
    "from matplotlib import pyplot as plt"
   ]
  },
  {
   "cell_type": "code",
   "execution_count": 15,
   "metadata": {},
   "outputs": [
    {
     "output_type": "execute_result",
     "data": {
      "text/plain": [
       "   province  adcode             model bodyType  regYear  regMonth  salesVolume\n",
       "0        上海  310000  3c974920a76ac9c1      SUV     2016         1          292\n",
       "1        云南  530000  3c974920a76ac9c1      SUV     2016         1          466\n",
       "2       内蒙古  150000  3c974920a76ac9c1      SUV     2016         1          257\n",
       "3        北京  110000  3c974920a76ac9c1      SUV     2016         1          408\n",
       "4        四川  510000  3c974920a76ac9c1      SUV     2016         1          610\n",
       "5        安徽  340000  3c974920a76ac9c1      SUV     2016         1          206\n",
       "6        山东  370000  3c974920a76ac9c1      SUV     2016         1          503\n",
       "7        山西  140000  3c974920a76ac9c1      SUV     2016         1          236\n",
       "8        广东  440000  3c974920a76ac9c1      SUV     2016         1         3635\n",
       "9        广西  450000  3c974920a76ac9c1      SUV     2016         1          450\n",
       "10       江苏  320000  3c974920a76ac9c1      SUV     2016         1          876\n",
       "11       江西  360000  3c974920a76ac9c1      SUV     2016         1          253\n",
       "12       河北  130000  3c974920a76ac9c1      SUV     2016         1          306\n",
       "13       河南  410000  3c974920a76ac9c1      SUV     2016         1          537\n",
       "14       浙江  330000  3c974920a76ac9c1      SUV     2016         1          650\n",
       "15       湖北  420000  3c974920a76ac9c1      SUV     2016         1          635\n",
       "16       湖南  430000  3c974920a76ac9c1      SUV     2016         1          525\n",
       "17       福建  350000  3c974920a76ac9c1      SUV     2016         1          462\n",
       "18       辽宁  210000  3c974920a76ac9c1      SUV     2016         1          791\n",
       "19       重庆  500000  3c974920a76ac9c1      SUV     2016         1          195"
      ],
      "text/html": "<div>\n<style scoped>\n    .dataframe tbody tr th:only-of-type {\n        vertical-align: middle;\n    }\n\n    .dataframe tbody tr th {\n        vertical-align: top;\n    }\n\n    .dataframe thead th {\n        text-align: right;\n    }\n</style>\n<table border=\"1\" class=\"dataframe\">\n  <thead>\n    <tr style=\"text-align: right;\">\n      <th></th>\n      <th>province</th>\n      <th>adcode</th>\n      <th>model</th>\n      <th>bodyType</th>\n      <th>regYear</th>\n      <th>regMonth</th>\n      <th>salesVolume</th>\n    </tr>\n  </thead>\n  <tbody>\n    <tr>\n      <th>0</th>\n      <td>上海</td>\n      <td>310000</td>\n      <td>3c974920a76ac9c1</td>\n      <td>SUV</td>\n      <td>2016</td>\n      <td>1</td>\n      <td>292</td>\n    </tr>\n    <tr>\n      <th>1</th>\n      <td>云南</td>\n      <td>530000</td>\n      <td>3c974920a76ac9c1</td>\n      <td>SUV</td>\n      <td>2016</td>\n      <td>1</td>\n      <td>466</td>\n    </tr>\n    <tr>\n      <th>2</th>\n      <td>内蒙古</td>\n      <td>150000</td>\n      <td>3c974920a76ac9c1</td>\n      <td>SUV</td>\n      <td>2016</td>\n      <td>1</td>\n      <td>257</td>\n    </tr>\n    <tr>\n      <th>3</th>\n      <td>北京</td>\n      <td>110000</td>\n      <td>3c974920a76ac9c1</td>\n      <td>SUV</td>\n      <td>2016</td>\n      <td>1</td>\n      <td>408</td>\n    </tr>\n    <tr>\n      <th>4</th>\n      <td>四川</td>\n      <td>510000</td>\n      <td>3c974920a76ac9c1</td>\n      <td>SUV</td>\n      <td>2016</td>\n      <td>1</td>\n      <td>610</td>\n    </tr>\n    <tr>\n      <th>5</th>\n      <td>安徽</td>\n      <td>340000</td>\n      <td>3c974920a76ac9c1</td>\n      <td>SUV</td>\n      <td>2016</td>\n      <td>1</td>\n      <td>206</td>\n    </tr>\n    <tr>\n      <th>6</th>\n      <td>山东</td>\n      <td>370000</td>\n      <td>3c974920a76ac9c1</td>\n      <td>SUV</td>\n      <td>2016</td>\n      <td>1</td>\n      <td>503</td>\n    </tr>\n    <tr>\n      <th>7</th>\n      <td>山西</td>\n      <td>140000</td>\n      <td>3c974920a76ac9c1</td>\n      <td>SUV</td>\n      <td>2016</td>\n      <td>1</td>\n      <td>236</td>\n    </tr>\n    <tr>\n      <th>8</th>\n      <td>广东</td>\n      <td>440000</td>\n      <td>3c974920a76ac9c1</td>\n      <td>SUV</td>\n      <td>2016</td>\n      <td>1</td>\n      <td>3635</td>\n    </tr>\n    <tr>\n      <th>9</th>\n      <td>广西</td>\n      <td>450000</td>\n      <td>3c974920a76ac9c1</td>\n      <td>SUV</td>\n      <td>2016</td>\n      <td>1</td>\n      <td>450</td>\n    </tr>\n    <tr>\n      <th>10</th>\n      <td>江苏</td>\n      <td>320000</td>\n      <td>3c974920a76ac9c1</td>\n      <td>SUV</td>\n      <td>2016</td>\n      <td>1</td>\n      <td>876</td>\n    </tr>\n    <tr>\n      <th>11</th>\n      <td>江西</td>\n      <td>360000</td>\n      <td>3c974920a76ac9c1</td>\n      <td>SUV</td>\n      <td>2016</td>\n      <td>1</td>\n      <td>253</td>\n    </tr>\n    <tr>\n      <th>12</th>\n      <td>河北</td>\n      <td>130000</td>\n      <td>3c974920a76ac9c1</td>\n      <td>SUV</td>\n      <td>2016</td>\n      <td>1</td>\n      <td>306</td>\n    </tr>\n    <tr>\n      <th>13</th>\n      <td>河南</td>\n      <td>410000</td>\n      <td>3c974920a76ac9c1</td>\n      <td>SUV</td>\n      <td>2016</td>\n      <td>1</td>\n      <td>537</td>\n    </tr>\n    <tr>\n      <th>14</th>\n      <td>浙江</td>\n      <td>330000</td>\n      <td>3c974920a76ac9c1</td>\n      <td>SUV</td>\n      <td>2016</td>\n      <td>1</td>\n      <td>650</td>\n    </tr>\n    <tr>\n      <th>15</th>\n      <td>湖北</td>\n      <td>420000</td>\n      <td>3c974920a76ac9c1</td>\n      <td>SUV</td>\n      <td>2016</td>\n      <td>1</td>\n      <td>635</td>\n    </tr>\n    <tr>\n      <th>16</th>\n      <td>湖南</td>\n      <td>430000</td>\n      <td>3c974920a76ac9c1</td>\n      <td>SUV</td>\n      <td>2016</td>\n      <td>1</td>\n      <td>525</td>\n    </tr>\n    <tr>\n      <th>17</th>\n      <td>福建</td>\n      <td>350000</td>\n      <td>3c974920a76ac9c1</td>\n      <td>SUV</td>\n      <td>2016</td>\n      <td>1</td>\n      <td>462</td>\n    </tr>\n    <tr>\n      <th>18</th>\n      <td>辽宁</td>\n      <td>210000</td>\n      <td>3c974920a76ac9c1</td>\n      <td>SUV</td>\n      <td>2016</td>\n      <td>1</td>\n      <td>791</td>\n    </tr>\n    <tr>\n      <th>19</th>\n      <td>重庆</td>\n      <td>500000</td>\n      <td>3c974920a76ac9c1</td>\n      <td>SUV</td>\n      <td>2016</td>\n      <td>1</td>\n      <td>195</td>\n    </tr>\n  </tbody>\n</table>\n</div>"
     },
     "metadata": {},
     "execution_count": 15
    }
   ],
   "source": [
    " # 读取数据\n",
    " train_sales_data_path = '../data/train_sales_data.csv'\n",
    " train_search_data_path = \"../data/train_search_data.csv\"\n",
    " train_user_reply_data_path = \"../data/train_user_reply_data.csv\"\n",
    " train_sales_data = pd.read_csv(train_sales_data_path)\n",
    " train_search_data = pd.read_csv(train_search_data_path)\n",
    " train_user_reply_data = pd.read_csv(train_user_reply_data_path)\n",
    "\n",
    "\n",
    "#  df=data.iloc[:,:]\n",
    "# 历史销量数据\n",
    "# train_sales_data.head(20)\n"
   ]
  },
  {
   "cell_type": "code",
   "execution_count": 25,
   "metadata": {},
   "outputs": [
    {
     "output_type": "error",
     "ename": "AttributeError",
     "evalue": "'DataFrameGroupBy' object has no attribute 'groupby'",
     "traceback": [
      "\u001b[0;31m---------------------------------------------------------------------------\u001b[0m",
      "\u001b[0;31mAttributeError\u001b[0m                            Traceback (most recent call last)",
      "\u001b[0;32m<ipython-input-25-25e8cd8d8764>\u001b[0m in \u001b[0;36m<module>\u001b[0;34m\u001b[0m\n\u001b[0;32m----> 1\u001b[0;31m \u001b[0mg\u001b[0m \u001b[0;34m=\u001b[0m \u001b[0mtrain_sales_data\u001b[0m\u001b[0;34m.\u001b[0m\u001b[0mgroupby\u001b[0m\u001b[0;34m(\u001b[0m\u001b[0mtrain_sales_data\u001b[0m\u001b[0;34m[\u001b[0m\u001b[0;34m\"model\"\u001b[0m\u001b[0;34m]\u001b[0m\u001b[0;34m)\u001b[0m\u001b[0;34m.\u001b[0m\u001b[0mgroupby\u001b[0m\u001b[0;34m(\u001b[0m\u001b[0mtrain_sales_data\u001b[0m\u001b[0;34m[\u001b[0m\u001b[0;34m\"adcode\"\u001b[0m\u001b[0;34m]\u001b[0m\u001b[0;34m)\u001b[0m\u001b[0;34m\u001b[0m\u001b[0;34m\u001b[0m\u001b[0m\n\u001b[0m\u001b[1;32m      2\u001b[0m \u001b[0mg\u001b[0m\u001b[0;34m.\u001b[0m\u001b[0mhead\u001b[0m\u001b[0;34m(\u001b[0m\u001b[0;36m50\u001b[0m\u001b[0;34m)\u001b[0m\u001b[0;34m\u001b[0m\u001b[0;34m\u001b[0m\u001b[0m\n",
      "\u001b[0;32m/opt/anaconda3/lib/python3.8/site-packages/pandas/core/groupby/groupby.py\u001b[0m in \u001b[0;36m__getattr__\u001b[0;34m(self, attr)\u001b[0m\n\u001b[1;32m    578\u001b[0m             \u001b[0;32mreturn\u001b[0m \u001b[0mself\u001b[0m\u001b[0;34m[\u001b[0m\u001b[0mattr\u001b[0m\u001b[0;34m]\u001b[0m\u001b[0;34m\u001b[0m\u001b[0;34m\u001b[0m\u001b[0m\n\u001b[1;32m    579\u001b[0m \u001b[0;34m\u001b[0m\u001b[0m\n\u001b[0;32m--> 580\u001b[0;31m         raise AttributeError(\n\u001b[0m\u001b[1;32m    581\u001b[0m             \u001b[0;34mf\"'{type(self).__name__}' object has no attribute '{attr}'\"\u001b[0m\u001b[0;34m\u001b[0m\u001b[0;34m\u001b[0m\u001b[0m\n\u001b[1;32m    582\u001b[0m         )\n",
      "\u001b[0;31mAttributeError\u001b[0m: 'DataFrameGroupBy' object has no attribute 'groupby'"
     ]
    }
   ],
   "source": [
    "g = train_sales_data.groupby(train_sales_data[\"model\"])\n",
    "g.head(50)"
   ]
  },
  {
   "cell_type": "code",
   "execution_count": 12,
   "metadata": {},
   "outputs": [
    {
     "output_type": "execute_result",
     "data": {
      "text/plain": [
       "      province  adcode             model  regYear  regMonth  popularity\n",
       "31670      内蒙古  150000  a9a43d1a7ecbe75d     2017         3         297\n",
       "31671      内蒙古  150000  f5d69960089c3614     2017         9        1021\n",
       "31672      内蒙古  150000  f5d69960089c3614     2017        10        1062\n",
       "31673      内蒙古  150000  a9a43d1a7ecbe75d     2017         5         490\n",
       "31674      内蒙古  150000  f5d69960089c3614     2017        12        1236\n",
       "31675      内蒙古  150000  f5d69960089c3614     2017        11         970\n",
       "31676      内蒙古  150000  a9a43d1a7ecbe75d     2017         1         121\n",
       "31677      内蒙古  150000  a432c483b5beb856     2016         2         184\n",
       "31678      内蒙古  150000  a432c483b5beb856     2016         1         192\n",
       "31679      内蒙古  150000  5d7fb682edd0f937     2017        10         489"
      ],
      "text/html": "<div>\n<style scoped>\n    .dataframe tbody tr th:only-of-type {\n        vertical-align: middle;\n    }\n\n    .dataframe tbody tr th {\n        vertical-align: top;\n    }\n\n    .dataframe thead th {\n        text-align: right;\n    }\n</style>\n<table border=\"1\" class=\"dataframe\">\n  <thead>\n    <tr style=\"text-align: right;\">\n      <th></th>\n      <th>province</th>\n      <th>adcode</th>\n      <th>model</th>\n      <th>regYear</th>\n      <th>regMonth</th>\n      <th>popularity</th>\n    </tr>\n  </thead>\n  <tbody>\n    <tr>\n      <th>31670</th>\n      <td>内蒙古</td>\n      <td>150000</td>\n      <td>a9a43d1a7ecbe75d</td>\n      <td>2017</td>\n      <td>3</td>\n      <td>297</td>\n    </tr>\n    <tr>\n      <th>31671</th>\n      <td>内蒙古</td>\n      <td>150000</td>\n      <td>f5d69960089c3614</td>\n      <td>2017</td>\n      <td>9</td>\n      <td>1021</td>\n    </tr>\n    <tr>\n      <th>31672</th>\n      <td>内蒙古</td>\n      <td>150000</td>\n      <td>f5d69960089c3614</td>\n      <td>2017</td>\n      <td>10</td>\n      <td>1062</td>\n    </tr>\n    <tr>\n      <th>31673</th>\n      <td>内蒙古</td>\n      <td>150000</td>\n      <td>a9a43d1a7ecbe75d</td>\n      <td>2017</td>\n      <td>5</td>\n      <td>490</td>\n    </tr>\n    <tr>\n      <th>31674</th>\n      <td>内蒙古</td>\n      <td>150000</td>\n      <td>f5d69960089c3614</td>\n      <td>2017</td>\n      <td>12</td>\n      <td>1236</td>\n    </tr>\n    <tr>\n      <th>31675</th>\n      <td>内蒙古</td>\n      <td>150000</td>\n      <td>f5d69960089c3614</td>\n      <td>2017</td>\n      <td>11</td>\n      <td>970</td>\n    </tr>\n    <tr>\n      <th>31676</th>\n      <td>内蒙古</td>\n      <td>150000</td>\n      <td>a9a43d1a7ecbe75d</td>\n      <td>2017</td>\n      <td>1</td>\n      <td>121</td>\n    </tr>\n    <tr>\n      <th>31677</th>\n      <td>内蒙古</td>\n      <td>150000</td>\n      <td>a432c483b5beb856</td>\n      <td>2016</td>\n      <td>2</td>\n      <td>184</td>\n    </tr>\n    <tr>\n      <th>31678</th>\n      <td>内蒙古</td>\n      <td>150000</td>\n      <td>a432c483b5beb856</td>\n      <td>2016</td>\n      <td>1</td>\n      <td>192</td>\n    </tr>\n    <tr>\n      <th>31679</th>\n      <td>内蒙古</td>\n      <td>150000</td>\n      <td>5d7fb682edd0f937</td>\n      <td>2017</td>\n      <td>10</td>\n      <td>489</td>\n    </tr>\n  </tbody>\n</table>\n</div>"
     },
     "metadata": {},
     "execution_count": 12
    }
   ],
   "source": [
    "# 历史搜索数据\n",
    "train_search_data.tail(10)"
   ]
  },
  {
   "cell_type": "code",
   "execution_count": 14,
   "metadata": {},
   "outputs": [
    {
     "output_type": "execute_result",
     "data": {
      "text/plain": [
       "                 model  regYear  regMonth  carCommentVolum  newsReplyVolum\n",
       "1430  feabbf46658382b9     2017         3              457            3270\n",
       "1431  feabbf46658382b9     2017         4              305            2048\n",
       "1432  feabbf46658382b9     2017         5              260            3036\n",
       "1433  feabbf46658382b9     2017         6              757            1909\n",
       "1434  feabbf46658382b9     2017         7             1133            3717\n",
       "1435  feabbf46658382b9     2017         8             1604            1301\n",
       "1436  feabbf46658382b9     2017         9             1494            1011\n",
       "1437  feabbf46658382b9     2017        10             1065            2414\n",
       "1438  feabbf46658382b9     2017        11              561            2195\n",
       "1439  feabbf46658382b9     2017        12              586            4423"
      ],
      "text/html": "<div>\n<style scoped>\n    .dataframe tbody tr th:only-of-type {\n        vertical-align: middle;\n    }\n\n    .dataframe tbody tr th {\n        vertical-align: top;\n    }\n\n    .dataframe thead th {\n        text-align: right;\n    }\n</style>\n<table border=\"1\" class=\"dataframe\">\n  <thead>\n    <tr style=\"text-align: right;\">\n      <th></th>\n      <th>model</th>\n      <th>regYear</th>\n      <th>regMonth</th>\n      <th>carCommentVolum</th>\n      <th>newsReplyVolum</th>\n    </tr>\n  </thead>\n  <tbody>\n    <tr>\n      <th>1430</th>\n      <td>feabbf46658382b9</td>\n      <td>2017</td>\n      <td>3</td>\n      <td>457</td>\n      <td>3270</td>\n    </tr>\n    <tr>\n      <th>1431</th>\n      <td>feabbf46658382b9</td>\n      <td>2017</td>\n      <td>4</td>\n      <td>305</td>\n      <td>2048</td>\n    </tr>\n    <tr>\n      <th>1432</th>\n      <td>feabbf46658382b9</td>\n      <td>2017</td>\n      <td>5</td>\n      <td>260</td>\n      <td>3036</td>\n    </tr>\n    <tr>\n      <th>1433</th>\n      <td>feabbf46658382b9</td>\n      <td>2017</td>\n      <td>6</td>\n      <td>757</td>\n      <td>1909</td>\n    </tr>\n    <tr>\n      <th>1434</th>\n      <td>feabbf46658382b9</td>\n      <td>2017</td>\n      <td>7</td>\n      <td>1133</td>\n      <td>3717</td>\n    </tr>\n    <tr>\n      <th>1435</th>\n      <td>feabbf46658382b9</td>\n      <td>2017</td>\n      <td>8</td>\n      <td>1604</td>\n      <td>1301</td>\n    </tr>\n    <tr>\n      <th>1436</th>\n      <td>feabbf46658382b9</td>\n      <td>2017</td>\n      <td>9</td>\n      <td>1494</td>\n      <td>1011</td>\n    </tr>\n    <tr>\n      <th>1437</th>\n      <td>feabbf46658382b9</td>\n      <td>2017</td>\n      <td>10</td>\n      <td>1065</td>\n      <td>2414</td>\n    </tr>\n    <tr>\n      <th>1438</th>\n      <td>feabbf46658382b9</td>\n      <td>2017</td>\n      <td>11</td>\n      <td>561</td>\n      <td>2195</td>\n    </tr>\n    <tr>\n      <th>1439</th>\n      <td>feabbf46658382b9</td>\n      <td>2017</td>\n      <td>12</td>\n      <td>586</td>\n      <td>4423</td>\n    </tr>\n  </tbody>\n</table>\n</div>"
     },
     "metadata": {},
     "execution_count": 14
    }
   ],
   "source": [
    "train_user_reply_data.tail(10)"
   ]
  },
  {
   "cell_type": "code",
   "execution_count": null,
   "metadata": {},
   "outputs": [],
   "source": []
  }
 ]
}